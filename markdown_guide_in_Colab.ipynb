{
  "nbformat": 4,
  "nbformat_minor": 0,
  "metadata": {
    "colab": {
      "name": "markdown guide in Colab.ipynb",
      "provenance": [],
      "collapsed_sections": [],
      "toc_visible": true,
      "authorship_tag": "ABX9TyPa5NxV/huJlYGEMpiU+Ai7",
      "include_colab_link": true
    },
    "kernelspec": {
      "name": "python3",
      "display_name": "Python 3"
    },
    "language_info": {
      "name": "python"
    }
  },
  "cells": [
    {
      "cell_type": "markdown",
      "metadata": {
        "id": "view-in-github",
        "colab_type": "text"
      },
      "source": [
        "<a href=\"https://colab.research.google.com/github/knbruno/markdown-guide/blob/1st-branch/markdown_guide_in_Colab.ipynb\" target=\"_parent\"><img src=\"https://colab.research.google.com/assets/colab-badge.svg\" alt=\"Open In Colab\"/></a>"
      ]
    },
    {
      "cell_type": "markdown",
      "metadata": {
        "id": "QpJVD6wbRyZb"
      },
      "source": [
        "# \" Markdown Guide\" in Colab homepage\n",
        "* Colab page에서 일부 추가함\n",
        ">[Markdown Guide](https://colab.research.google.com/notebooks/markdown_guide.ipynb)\n",
        "* Markdown은 colab 문서작업, 수학 수식표현, graphic data등 여러가지 표현이 가능하고, colab 이외에 다른 곳에서도 많이 쓰이므로 익숙해지는 것이 좋다."
      ]
    },
    {
      "cell_type": "markdown",
      "metadata": {
        "id": "LhBAVKh8X4gP"
      },
      "source": [
        "## What is Markdown?\n",
        "\n",
        "Colab has two types of cells: text and code. Text cells are formatted using a simple markup language called Markdown.\n",
        "\n",
        "\n",
        "To see the Markdown source, double-click a text cell, showing both the Markdown source and the rendered version. Above the Markdown source there is a toolbar to assist editing."
      ]
    },
    {
      "cell_type": "markdown",
      "metadata": {
        "id": "FrEQ2hpAR-Go"
      },
      "source": [
        "## Font style and link\n",
        "* `backquot: source` :   `**bold text**`\n",
        "* `Monospace` ??\n",
        "* `[A link](https://....)`\n",
        "* `![An image](https://...)`\n",
        "\n"
      ]
    },
    {
      "cell_type": "markdown",
      "metadata": {
        "id": "Y9vWW2Vva-5p"
      },
      "source": [
        "## Markdown Table 예제\n",
        "> Font style 정리 table\n",
        "\n",
        "Markdown | Preview\n",
        "--- | ---\n",
        "`**bold text**` | **bold text**\n",
        "`*italicized text*` or `_italicized text_` | *italicized text*\n",
        "`` `Monospace` `` | `Monospace`\n",
        "`~~strikethrough~~` | ~~strikethrough~~\n",
        "`[A link](https://www.google.com)` | [A link](https://www.google.com)\n",
        "`![An image](https://www.google.com/images/rss.png)` | ![An image](https://www.google.com/images/rss.png)"
      ]
    },
    {
      "cell_type": "markdown",
      "metadata": {
        "id": "hMbHnnjCTDUa"
      },
      "source": [
        "---"
      ]
    },
    {
      "cell_type": "markdown",
      "metadata": {
        "id": "PMfK4wM3eLje"
      },
      "source": [
        "* 줄바꿈; 문장 맨 뒤에 띄어쓰기 두번하고  \n",
        "'Enter'하면 줄이 바뀜\n",
        "* 또는 줄 끝에 `<br>` 삽입 (HTML tag)"
      ]
    },
    {
      "cell_type": "markdown",
      "metadata": {
        "id": "CiEsvvNNZpFc"
      },
      "source": [
        "## Headings are rednered as titles.\n",
        "```markdown\n",
        "# Section 1\n",
        "# Section 2\n",
        "## Sub-section under Section 2\n",
        "### Sub-section under the sub-section under Section 2\n",
        "# Section 3\n",
        "```\n",
        "\n",
        "# Section 1\n",
        "# Section 2\n",
        "## Sub-section under Section 2\n",
        "### Sub-section under the sub-section under Section 2\n",
        "# Section 3\n",
        "\n",
        "The table of contents, available on th left side of Colab, is populated using at most one section title from each text cell."
      ]
    },
    {
      "cell_type": "markdown",
      "metadata": {
        "id": "SbylbpF0bFJQ"
      },
      "source": [
        "---"
      ]
    },
    {
      "cell_type": "markdown",
      "metadata": {
        "id": "ZV4rDAswbFga"
      },
      "source": [
        "## Level of indentation\n",
        "```markdown\n",
        ">One level of indentation\n",
        "```\n",
        "\n",
        ">One level of indentation\n",
        "\n",
        "\n",
        "```markdown\n",
        ">>Two levels of indentation\n",
        "```\n",
        "\n",
        ">>Two levels of indentation\n",
        "\n",
        "\n",
        ">>Two levels of indentation\n"
      ]
    },
    {
      "cell_type": "markdown",
      "metadata": {
        "id": "QxpGfs_acSTu"
      },
      "source": [
        "---"
      ]
    },
    {
      "cell_type": "markdown",
      "metadata": {
        "id": "yXHcXwlgcSnm"
      },
      "source": [
        "## Code blocks\n",
        "\n",
        "````\n",
        "```python\n",
        "print(\"a\")\n",
        "```\n",
        "````\n",
        "\n",
        "```python\n",
        "print(\"a\")\n",
        "```\n"
      ]
    },
    {
      "cell_type": "markdown",
      "metadata": {
        "id": "o31J_EfscxcE"
      },
      "source": [
        "---"
      ]
    },
    {
      "cell_type": "markdown",
      "metadata": {
        "id": "rT97WAMOcyKC"
      },
      "source": [
        "\n",
        "## Ordered lists:\n",
        "```markdown\n",
        "1. One\n",
        "1. Two\n",
        "1. Three\n",
        "```\n",
        "1. One\n",
        "1. Two\n",
        "1. Three\n"
      ]
    },
    {
      "cell_type": "markdown",
      "metadata": {
        "id": "WvFj-5xwc-qI"
      },
      "source": [
        "---"
      ]
    },
    {
      "cell_type": "markdown",
      "metadata": {
        "id": "3kav06Thc_VH"
      },
      "source": [
        "\n",
        "## Unordered lists:\n",
        "```markdown\n",
        "* One\n",
        "* Two\n",
        "* Three\n",
        "```\n",
        "* One\n",
        "* Two\n",
        "* Three\n"
      ]
    },
    {
      "cell_type": "markdown",
      "metadata": {
        "id": "JcT0Y5Vtc_-d"
      },
      "source": [
        "---"
      ]
    },
    {
      "cell_type": "markdown",
      "metadata": {
        "id": "3zZLE7dfdaMu"
      },
      "source": [
        "\n",
        "## Equations:\n",
        "\n",
        "```markdown\n",
        "$y=x^2$\n",
        "\n",
        "$e^{i\\pi} + 1 = 0$\n",
        "\n",
        "$e^x=\\sum_{i=0}^\\infty \\frac{1}{i!}x^i$\n",
        "\n",
        "$\\frac{n!}{k!(n-k)!} = {n \\choose k}$\n",
        "\n",
        "$A_{m,n} =\n",
        " \\begin{pmatrix}\n",
        "  a_{1,1} & a_{1,2} & \\cdots & a_{1,n} \\\\\n",
        "  a_{2,1} & a_{2,2} & \\cdots & a_{2,n} \\\\\n",
        "  \\vdots  & \\vdots  & \\ddots & \\vdots  \\\\\n",
        "  a_{m,1} & a_{m,2} & \\cdots & a_{m,n}\n",
        " \\end{pmatrix}$\n",
        "```\n",
        "\n",
        "$y=x^2$\n",
        "\n",
        "$e^{i\\pi} + 1 = 0$\n",
        "\n",
        "$e^x=\\sum_{i=0}^\\infty \\frac{1}{i!}x^i$\n",
        "\n",
        "$\\frac{n!}{k!(n-k)!} = {n \\choose k}$\n",
        "\n",
        "$A_{m,n} =\n",
        " \\begin{pmatrix}\n",
        "  a_{1,1} & a_{1,2} & \\cdots & a_{1,n} \\\\\n",
        "  a_{2,1} & a_{2,2} & \\cdots & a_{2,n} \\\\\n",
        "  \\vdots  & \\vdots  & \\ddots & \\vdots  \\\\\n",
        "  a_{m,1} & a_{m,2} & \\cdots & a_{m,n}\n",
        " \\end{pmatrix}$\n"
      ]
    },
    {
      "cell_type": "markdown",
      "metadata": {
        "id": "vLADxKShMCa4"
      },
      "source": [
        "* E= mc^2\n",
        "$$E = mc^2$$"
      ]
    },
    {
      "cell_type": "markdown",
      "metadata": {
        "id": "SUwG7ay4dZ52"
      },
      "source": [
        "---"
      ]
    },
    {
      "cell_type": "markdown",
      "metadata": {
        "id": "basHfL85d8WA"
      },
      "source": [
        "## Tables\n",
        "```markdown\n",
        "First column name  | Second column name \n",
        "-------------------|------------------\n",
        "Row 1, Col 1       | Row 1, Col 2 \n",
        "Row 2, Col 1       | Row 2, Col 2 \n",
        "\n",
        "```\n",
        "\n",
        "First column name  | Second column name \n",
        "-------------------|------------------\n",
        "Row 1, Col 1       | Row 1, Col 2 \n",
        "Row 2, Col 1       | Row 2, Col 2 \n"
      ]
    },
    {
      "cell_type": "markdown",
      "metadata": {
        "id": "RYCdoM9WeNLc"
      },
      "source": [
        "---"
      ]
    },
    {
      "cell_type": "markdown",
      "metadata": {
        "id": "-Wa-S5H1PmbF"
      },
      "source": [
        "# 기타 표현\n",
        "[신상훈 blog 참조](https://huni0318.github.io/blog/blog-etc/2020-12-21-markdown-tutorial2/) <br>\n",
        "[위키백과:TeX 문법](https://ko.wikipedia.org/wiki/%EC%9C%84%ED%82%A4%EB%B0%B1%EA%B3%BC:TeX_%EB%AC%B8%EB%B2%95)"
      ]
    },
    {
      "cell_type": "markdown",
      "metadata": {
        "id": "ggdLcdARP1wW"
      },
      "source": [
        ""
      ]
    },
    {
      "cell_type": "markdown",
      "metadata": {
        "id": "PJNeRtM3P4RX"
      },
      "source": [
        "* E= mc^2\n",
        "$$E = mc^2$$"
      ]
    },
    {
      "cell_type": "markdown",
      "metadata": {
        "id": "tVuYnjvuQJWN"
      },
      "source": [
        "* 줄바꿈; <br>\n",
        "  * 한줄바꿈 : <br>\n",
        "  * 두줄바꿈 : 문장 맨 뒤에 띄어쓰기 두번하고  \n",
        "'Enter'하면 한줄 뛰고 줄바꿈이 됨"
      ]
    },
    {
      "cell_type": "markdown",
      "metadata": {
        "id": "6ImaoMxeQlMo"
      },
      "source": [
        "* 사칙연산 표현  \n",
        "  * 덧셈   \n",
        "$1 + 1 = 2$  \n",
        "  * 뺄셈  \n",
        "$2 - 1 = 1$  \n",
        "  * 곱셈  \n",
        "$2 \\times 2 = 4$\n",
        "  * 나눗셈  \n",
        "$4 \\div 2 = 2$ \n"
      ]
    },
    {
      "cell_type": "markdown",
      "metadata": {
        "id": "0P7vRdNOSAun"
      },
      "source": [
        "* 위 첨자 : $a^2  \n",
        "\n",
        "$a^2, a^3, a^4$"
      ]
    },
    {
      "cell_type": "markdown",
      "metadata": {
        "id": "edkI84S2Q8B3"
      },
      "source": [
        "* 아래첨자 : $a_2  \n",
        "$$a_1, a_2, a_3$$\n",
        "\n"
      ]
    },
    {
      "cell_type": "markdown",
      "metadata": {
        "id": "6NKU3hKZTHJ-"
      },
      "source": [
        "* ! factorial: $n!\n",
        "\n",
        "$n!$\n"
      ]
    },
    {
      "cell_type": "markdown",
      "metadata": {
        "id": "-H_xvBuxRel4"
      },
      "source": [
        "점을 출력하는 방법을 알아보겠습니다. 수와 수 사이에 값이 존재하는 상황에서 생략적 표기로 점을 많이 사용합니다.  \n",
        "가운데를 기준으로 점을 표기합니다.\n",
        "$$\\cdots$$"
      ]
    },
    {
      "cell_type": "markdown",
      "metadata": {
        "id": "pG8x59k2et7q"
      },
      "source": [
        "\n",
        "## Horizontal rules:\n",
        "```markdown\n",
        "---\n",
        "```\n",
        "---\n"
      ]
    },
    {
      "cell_type": "markdown",
      "metadata": {
        "id": "-rdbrD6dfUKO"
      },
      "source": [
        "# Differences between Colab Markdown and other Markdown dialects\n",
        "\n",
        "Colab uses [marked.js](https://github.com/chjj/marked) and so is similar but not quite identical to the Markdown used by Jupyter and Github.\n",
        "\n",
        "Colab supports (MathJax) $\\LaTeX$ equations like Jupyter, but does not allow HTML tags in the Markdown. Colab does not support some GitHub additions like emojis and to-do checkboxes.\n",
        "\n",
        "If HTML must be included in a Colab notebook, see the [%%html magic](/notebooks/basic_features_overview.ipynb#scrollTo=qM4myQGfQboQ)."
      ]
    },
    {
      "cell_type": "markdown",
      "metadata": {
        "id": "sJ89mxq7fToF"
      },
      "source": [
        "# Useful references"
      ]
    },
    {
      "cell_type": "markdown",
      "metadata": {
        "id": "2aghSzrgfuaJ"
      },
      "source": [
        "* [Github Markdown basics](https://help.github.com/articles/markdown-basics/)\n",
        "* [Github flavored Markdown](https://help.github.com/articles/github-flavored-markdown/)\n",
        "* [Original Markdown spec: Syntax](http://daringfireball.net/projects/markdown/syntax)\n",
        "* [Original Markdown spec: Basics](http://daringfireball.net/projects/markdown/basics)\n",
        "* [marked.js library used by Colab](https://github.com/chjj/marked)\n",
        "* [LaTex mathematics for equations](https://en.wikibooks.org/wiki/LaTeX/Mathematics)"
      ]
    }
  ]
}